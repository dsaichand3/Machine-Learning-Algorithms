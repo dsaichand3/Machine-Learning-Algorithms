{
  "nbformat": 4,
  "nbformat_minor": 0,
  "metadata": {
    "colab": {
      "name": "Naive Bayes",
      "provenance": [],
      "authorship_tag": "ABX9TyPmeEmTIy9jiiGXEyZYtFn6",
      "include_colab_link": true
    },
    "kernelspec": {
      "name": "python3",
      "display_name": "Python 3"
    },
    "language_info": {
      "name": "python"
    }
  },
  "cells": [
    {
      "cell_type": "markdown",
      "metadata": {
        "id": "view-in-github",
        "colab_type": "text"
      },
      "source": [
        "<a href=\"https://colab.research.google.com/github/dsaichand3/Machine-Learning-Algorithms/blob/main/Naive_Bayes.ipynb\" target=\"_parent\"><img src=\"https://colab.research.google.com/assets/colab-badge.svg\" alt=\"Open In Colab\"/></a>"
      ]
    },
    {
      "cell_type": "markdown",
      "metadata": {
        "id": "UjSqu47WE3Wl"
      },
      "source": [
        "https://jakevdp.github.io/PythonDataScienceHandbook/05.05-naive-bayes.html"
      ]
    },
    {
      "cell_type": "markdown",
      "metadata": {
        "id": "VRB9JXNd1gr3"
      },
      "source": [
        "### MultiNomial Naive Bayes\n",
        "\n",
        "#### Naive Bayes classifier for multinomial models"
      ]
    },
    {
      "cell_type": "markdown",
      "metadata": {
        "id": "_RZo4zsJ4t8w"
      },
      "source": [
        "The multinomial Naive Bayes classifier is suitable for classification with discrete features (e.g., word counts for text classification). The multinomial distribution normally requires integer feature counts. However, in practice, fractional counts such as tf-idf may also work."
      ]
    },
    {
      "cell_type": "markdown",
      "metadata": {
        "id": "O3qetniMCf0c"
      },
      "source": [
        "### Bernoulli Naive Bayes\n",
        "\n",
        "#### Naive Bayes classifier for multivariate Bernoulli models."
      ]
    },
    {
      "cell_type": "markdown",
      "metadata": {
        "id": "QM9fh9I8CVkX"
      },
      "source": [
        "Like MultinomialNB, this classifier is suitable for discrete data. The difference is that while MultinomialNB works with occurrence counts, BernoulliNB is designed for binary/boolean features."
      ]
    },
    {
      "cell_type": "markdown",
      "metadata": {
        "id": "oHMthwpWB-sq"
      },
      "source": [
        "### Categorical Naive Bayes\n",
        "\n",
        "#### Naive Bayes classifier for categorical features"
      ]
    },
    {
      "cell_type": "markdown",
      "metadata": {
        "id": "7PNOt7l9CGgz"
      },
      "source": [
        "The categorical Naive Bayes classifier is suitable for classification with discrete features that are categorically distributed. The categories of each feature are drawn from a categorical distribution.\n",
        "\n"
      ]
    },
    {
      "cell_type": "markdown",
      "metadata": {
        "id": "11YoV2HiCVnL"
      },
      "source": [
        ""
      ]
    }
  ]
}