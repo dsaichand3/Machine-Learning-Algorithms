{
  "nbformat": 4,
  "nbformat_minor": 0,
  "metadata": {
    "colab": {
      "name": "KMeans",
      "provenance": [],
      "collapsed_sections": [],
      "authorship_tag": "ABX9TyNVggO8Np0rS5cxde9rpW/+",
      "include_colab_link": true
    },
    "kernelspec": {
      "name": "python3",
      "display_name": "Python 3"
    },
    "language_info": {
      "name": "python"
    }
  },
  "cells": [
    {
      "cell_type": "markdown",
      "metadata": {
        "id": "view-in-github",
        "colab_type": "text"
      },
      "source": [
        "<a href=\"https://colab.research.google.com/github/dsaichand3/Machine-Learning-Algorithms/blob/main/KMeans.ipynb\" target=\"_parent\"><img src=\"https://colab.research.google.com/assets/colab-badge.svg\" alt=\"Open In Colab\"/></a>"
      ]
    },
    {
      "cell_type": "markdown",
      "metadata": {
        "id": "g21EY8vV0ggU"
      },
      "source": [
        "https://github.com/tugrulhkarabulut/K-Means-Clustering/blob/master/K-Means%20Clustering.ipynb"
      ]
    },
    {
      "cell_type": "code",
      "metadata": {
        "id": "ztiKEPLI0ic5"
      },
      "source": [
        ""
      ],
      "execution_count": null,
      "outputs": []
    }
  ]
}